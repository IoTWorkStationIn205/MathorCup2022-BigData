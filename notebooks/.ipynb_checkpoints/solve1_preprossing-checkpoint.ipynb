{
 "cells": [
  {
   "cell_type": "code",
   "execution_count": null,
   "metadata": {
    "collapsed": true,
    "pycharm": {
     "is_executing": true
    }
   },
   "outputs": [],
   "source": [
    "import numpy as np\n",
    "import pandas as pd\n",
    "import matplotlib.pyplot as plt\n",
    "import seaborn as sns\n",
    "import warnings\n",
    "import missingno as mns\n",
    "\n",
    "warnings.filterwarnings('ignore')"
   ]
  },
  {
   "cell_type": "code",
   "execution_count": null,
   "outputs": [],
   "source": [
    "data = pd.read_table('../附件/附件1：估价训练数据.txt', header=None)\n",
    "columns = ['carId', 'tradeTime', 'brand', 'serial', 'model', 'mileage', 'color', 'cityId', 'carCode', 'tansferCount',\n",
    "           'seatings', 'registerDate', 'licenseDate', 'country', 'makeType', 'modelYear', 'displacement', 'gearbox',\n",
    "           'oilType', 'newPrice']\n",
    "for i in range(15):\n",
    "    columns.append('unknown' + str(i))\n",
    "del i\n",
    "columns.append('price')\n",
    "data.columns = columns\n",
    "data"
   ],
   "metadata": {
    "collapsed": false,
    "pycharm": {
     "name": "#%%\n",
     "is_executing": true
    }
   }
  },
  {
   "cell_type": "code",
   "execution_count": null,
   "outputs": [],
   "source": [
    "data.tail(10)"
   ],
   "metadata": {
    "collapsed": false,
    "pycharm": {
     "name": "#%%\n",
     "is_executing": true
    }
   }
  },
  {
   "cell_type": "code",
   "execution_count": null,
   "outputs": [],
   "source": [
    "# 缺失值可视化\n",
    "mns.matrix(data)\n",
    "plt.savefig('./solve1/missing_matrix.png', dpi=800)"
   ],
   "metadata": {
    "collapsed": false,
    "pycharm": {
     "name": "#%%\n",
     "is_executing": true
    }
   }
  },
  {
   "cell_type": "code",
   "execution_count": null,
   "outputs": [],
   "source": [
    "# 数据分布情况\n",
    "data.hist(bins=50, figsize=(25, 20))\n",
    "plt.cla()\n",
    "plt.savefig('./solve1/hist.png', dpi=800)"
   ],
   "metadata": {
    "collapsed": false,
    "pycharm": {
     "name": "#%%\n",
     "is_executing": true
    }
   }
  },
  {
   "cell_type": "code",
   "execution_count": null,
   "outputs": [],
   "source": [],
   "metadata": {
    "collapsed": false,
    "pycharm": {
     "name": "#%%\n",
     "is_executing": true
    }
   }
  },
  {
   "cell_type": "code",
   "execution_count": null,
   "outputs": [],
   "source": [
    "# 特征重命名，做特征融合\n",
    "\n",
    "for col in ['tradeTime', 'registerDate', 'licenseDate']:\n",
    "    data[col] = pd.to_datetime(data[col])\n",
    "    del col\n",
    "\n",
    "\"\"\"\n",
    "@:param productionTime: 注册日期与展销日期的间隔\n",
    "@:param useTime:    挂牌日期与展销时间的间隔\n",
    "@:param time:   此款车型出的年限\n",
    "将时间型数据转化为连续的数值型数据（年限）\n",
    "\"\"\"\n",
    "data.rename(columns={'registerDate': 'productionTime', 'licenseDate': 'useTime', 'modelYear': 'time'}, inplace=True)\n",
    "\n",
    "data['productionTime'] = data['tradeTime'] - data['productionTime']\n",
    "data['useTime'] = data['tradeTime'] - data['useTime']\n",
    "data['time'] = 2021 - data['time']\n",
    "\n",
    "data['productionTime'] = data['productionTime'].astype(np.str)\n",
    "data['useTime'] = data['useTime'].astype(np.str)\n",
    "\n",
    "data['productionTime'] = data['productionTime'].str.split()\n",
    "data['productionTime'] = [np.float(i[0])/365 for i in data['productionTime'].tolist()]\n",
    "data['useTime'] = data['useTime'].str.split()\n",
    "data['useTime'] = [np.float(i[0])/365 for i in data['useTime'].tolist()]\n",
    "data.info()"
   ],
   "metadata": {
    "collapsed": false,
    "pycharm": {
     "name": "#%%\n",
     "is_executing": true
    }
   }
  },
  {
   "cell_type": "code",
   "execution_count": null,
   "outputs": [],
   "source": [
    "# 推断un11 是车子尺寸，将其扩增为三个连续型特征\n",
    "data['unknown11'] = data['unknown11'].str.split('*')\n",
    "data['unknown11_1'] = [np.float(i[0])/1000 for i in data['unknown11'].tolist()]\n",
    "data['unknown11_2'] = [np.float(i[1])/1000 for i in data['unknown11'].tolist()]\n",
    "data['unknown11_3'] = [np.float(i[2])/1000 for i in data['unknown11'].tolist()]\n",
    "data.drop(columns=['unknown11'], inplace=True)"
   ],
   "metadata": {
    "collapsed": false,
    "pycharm": {
     "name": "#%%\n",
     "is_executing": true
    }
   }
  },
  {
   "cell_type": "code",
   "execution_count": null,
   "outputs": [],
   "source": [
    "# un12 疑似时间数据，将其转化成时间格式，以展销时间减去，得到连续的数值型数据\n",
    "\n",
    "_ = data[data['unknown12'].notna()]\n",
    "_['unknown12'] = pd.to_datetime(_['unknown12'], format='%Y%m')\n",
    "_['unknown12'] = _['tradeTime'] - _['unknown12']\n",
    "_['unknown12'] = _['unknown12'].astype(np.str)\n",
    "_['unknown12'] = _['unknown12'].str.split()\n",
    "_['unknown12'] = [np.float(i[0])/365 for i in _['unknown12'].tolist()]\n",
    "data.loc[data['unknown12'].notna(), 'unknown12'] = _['unknown12']\n",
    "data"
   ],
   "metadata": {
    "collapsed": false,
    "pycharm": {
     "name": "#%%\n",
     "is_executing": true
    }
   }
  },
  {
   "cell_type": "code",
   "execution_count": null,
   "outputs": [],
   "source": [
    "# 时间数据无法加入到回归模型中，假设今天是2021年最后一天，以今天减去展销时间得到放在平台上拍卖的时间（连续型）\n",
    "data['tradeTime'] = pd.to_datetime('2021-12-31') - data['tradeTime']\n",
    "data['tradeTime'] = data['tradeTime'].astype(np.str)\n",
    "data['tradeTime'] = data['tradeTime'].str.split()\n",
    "data['tradeTime'] = [np.float(i[0])/365 for i in data['tradeTime'].tolist()]\n",
    "\n",
    "data"
   ],
   "metadata": {
    "collapsed": false,
    "pycharm": {
     "name": "#%%\n",
     "is_executing": true
    }
   }
  },
  {
   "cell_type": "code",
   "execution_count": null,
   "outputs": [],
   "source": [
    "missing = (data.shape[0] - data.count()) / data.shape[0]\n",
    "missing = missing[missing > 0.]\n",
    "missing"
   ],
   "metadata": {
    "collapsed": false,
    "pycharm": {
     "name": "#%%\n",
     "is_executing": true
    }
   }
  },
  {
   "cell_type": "code",
   "execution_count": null,
   "outputs": [],
   "source": [
    "data.drop(columns=['unknown6', 'unknown14'], inplace=True, axis=1)\n",
    "\n",
    "data = data[data['carCode'].notna()]\n",
    "data = data[data['gearbox'].notna()]\n",
    "missing = missing[missing > .01]\n",
    "missing = missing[missing < .6]\n",
    "data"
   ],
   "metadata": {
    "collapsed": false,
    "pycharm": {
     "name": "#%%\n",
     "is_executing": true
    }
   }
  },
  {
   "cell_type": "code",
   "execution_count": null,
   "outputs": [],
   "source": [
    "# 查看缺失特征与各特征之间的互信息\n",
    "\n",
    "features = [i for i in data.columns if i not in missing.index and i != 'price']\n",
    "from sklearn.feature_selection import mutual_info_classif\n",
    "# features.remove('licenseDate')\n",
    "# features.remove('registerDate')\n",
    "# features.remove('tradeTime')\n",
    "temp = pd.DataFrame(index=features, columns=missing.index)\n",
    "for index in temp.index:\n",
    "    for col in temp.columns:\n",
    "        try:\n",
    "            _ = data[[index, col]]\n",
    "            _.dropna(axis=0, inplace=True)\n",
    "            info = mutual_info_classif(_[index].values.reshape(-1, 1), _[col])\n",
    "            temp.loc[index, col] = info[0]\n",
    "            del _\n",
    "            del info\n",
    "        except ValueError:\n",
    "            pass\n",
    "\n",
    "temp = temp.astype(np.float)\n",
    "temp.dropna(axis=1, inplace=True)\n",
    "temp"
   ],
   "metadata": {
    "collapsed": false,
    "pycharm": {
     "name": "#%%\n",
     "is_executing": true
    }
   }
  },
  {
   "cell_type": "code",
   "execution_count": null,
   "outputs": [],
   "source": [
    "sns.heatmap(temp, cmap='RdBu')\n",
    "plt.savefig('./solve1/corr1.png', dpi=800)"
   ],
   "metadata": {
    "collapsed": false,
    "pycharm": {
     "name": "#%%\n",
     "is_executing": true
    }
   }
  },
  {
   "cell_type": "code",
   "execution_count": null,
   "outputs": [],
   "source": [
    "plt.figure(figsize=(8, 8))\n",
    "mask = np.zeros_like(temp[temp>1],dtype=np.bool)\n",
    "mask[np.triu_indices_from(mask)] = True\n",
    "sns.set_style(style=\"white\")\n",
    "# 显示强相关模式的相关系数热力值，低于参考值的部分显示为白色，从而获取强相关项\n",
    "# 得到互信息值的热力图\n",
    "sns.heatmap(temp[temp>=1],annot=True,mask=mask,cbar=True, linewidths=.5)\n",
    "plt.savefig('./solve1/corr2.png', dpi=800)"
   ],
   "metadata": {
    "collapsed": false,
    "pycharm": {
     "name": "#%%\n",
     "is_executing": true
    }
   }
  },
  {
   "cell_type": "code",
   "execution_count": null,
   "outputs": [],
   "source": [
    "from sklearn.tree import DecisionTreeClassifier, DecisionTreeRegressor\n",
    "from sklearn.model_selection import train_test_split\n",
    "# 基于决策树的特征选择\n",
    "# features.remove('tradeTime')\n",
    "# features.remove('unknown11')\n",
    "importance = pd.DataFrame(index=features, columns=missing.index)\n",
    "score = []\n",
    "for col in missing.index:\n",
    "    _ = data[data[col].notna()]\n",
    "    X = _[features]\n",
    "    y = _[col]\n",
    "    X_train, X_test, y_train, y_test = train_test_split(X, y, test_size=0.2, random_state=42)\n",
    "    dt = DecisionTreeClassifier(random_state=42)\n",
    "    try:\n",
    "        dt.fit(X_train, y_train)\n",
    "    except ValueError:\n",
    "        y = y.astype(np.int)\n",
    "        X_train, X_test, y_train, y_test = train_test_split(X, y, test_size=.3, random_state=42)\n",
    "    dt.fit(X_train, y_train)\n",
    "    score.append(dt.score(X_test, y_test))\n",
    "    importance[col] = dt.feature_importances_\n",
    "    dt = None\n",
    "    del _, X, y, X_train, X_test, y_train, y_test, dt\n",
    "\n",
    "_ = importance.T\n",
    "_['score'] = score\n",
    "importance = _.T\n",
    "\n",
    "plt.figure(figsize=(8, 8))\n",
    "sns.heatmap(importance.iloc[:-1])\n",
    "plt.savefig('./solve1/DecisionTreeFeatureSelection.png', dpi=800)"
   ],
   "metadata": {
    "collapsed": false,
    "pycharm": {
     "name": "#%%\n",
     "is_executing": true
    }
   }
  },
  {
   "cell_type": "code",
   "execution_count": null,
   "outputs": [],
   "source": [
    "data[missing.index]"
   ],
   "metadata": {
    "collapsed": false,
    "pycharm": {
     "name": "#%%\n",
     "is_executing": true
    }
   }
  },
  {
   "cell_type": "code",
   "execution_count": null,
   "outputs": [],
   "source": [
    "# 基于模型的缺失值处理，利用树模型对缺失值进行预测，以准确率和F1值综合评判模型效果\n",
    "from sklearn.metrics import f1_score, r2_score\n",
    "from sklearn.model_selection import train_test_split\n",
    "\n",
    "feature = [i for i in data.columns if i not in missing.index]\n",
    "acc = pd.DataFrame(index=missing.index, columns=['accuracy', 'score'])\n",
    "\n",
    "score = []\n",
    "f1 = []\n",
    "\n",
    "for col in missing.index:\n",
    "    dt = DecisionTreeClassifier(random_state=42)\n",
    "    if col in ['time', 'unknown12']:\n",
    "        dt = DecisionTreeRegressor(random_state=42)\n",
    "    temp = data[data[col].notna()]\n",
    "    X = temp[feature]\n",
    "    y = temp[col]\n",
    "    X_train, X_test, y_train, y_test = train_test_split(X, y, test_size=.3, random_state=42)\n",
    "    try:\n",
    "        dt.fit(X_train, y_train)\n",
    "    except ValueError:\n",
    "        y = y.astype(np.int)\n",
    "        X_train, X_test, y_train, y_test = train_test_split(X, y, test_size=.3, random_state=42)\n",
    "    dt.fit(X_train, y_train)\n",
    "    score.append(dt.score(X_test, y_test))\n",
    "    predict = dt.predict(X_test)\n",
    "    if type(dt) is DecisionTreeRegressor:\n",
    "        f1.append(r2_score(y_test, predict))\n",
    "        continue\n",
    "    f1.append(f1_score(y_test, predict, average='weighted'))\n",
    "\n",
    "acc['accuracy'] = score\n",
    "acc['score'] = f1\n",
    "acc"
   ],
   "metadata": {
    "collapsed": false,
    "pycharm": {
     "name": "#%%\n",
     "is_executing": true
    }
   }
  },
  {
   "cell_type": "code",
   "execution_count": null,
   "outputs": [],
   "source": [
    "# 准确率和F1均大于90%的使用该模型进行填充预测\n",
    "acc = acc[acc>.9].dropna(axis=0)\n",
    "acc = acc.sort_values(by='accuracy', ascending=False)\n",
    "acc"
   ],
   "metadata": {
    "collapsed": false,
    "pycharm": {
     "name": "#%%\n",
     "is_executing": true
    }
   }
  },
  {
   "cell_type": "code",
   "execution_count": null,
   "outputs": [],
   "source": [
    "from pickle import dump\n",
    "from sklearn.preprocessing import LabelEncoder\n",
    "\n",
    "cols = []\n",
    "for col in acc.index:\n",
    "    missing = (data.shape[0] - data.count()) / data.shape[0]\n",
    "    missing = missing[missing > 0.]\n",
    "    dt = DecisionTreeClassifier(random_state=42)\n",
    "\n",
    "    if col in ['time', 'unknown12']:\n",
    "        dt = DecisionTreeRegressor(random_state=42)\n",
    "\n",
    "    temp = data[data[col].notna()]\n",
    "    nan = data[data[col].isna()]\n",
    "\n",
    "    X = temp[[i for i in temp.columns if i not in missing.index and i != 'price']]\n",
    "    y = temp[col]\n",
    "    X_ = nan[[i for i in temp.columns if i not in missing.index and i != 'price']]\n",
    "    cols.append(X.columns)\n",
    "    X_train, X_test, y_train, y_test = train_test_split(X, y, test_size=.3, random_state=42)\n",
    "\n",
    "    try:\n",
    "        dt.fit(X_train, y_train)\n",
    "    except ValueError:\n",
    "        y = y.astype(np.int)\n",
    "        dt.fit(X_train, y_train)\n",
    "\n",
    "    print(col, dt.score(X_test, y_test))\n",
    "    try:\n",
    "        y_pre = dt.predict(X_)\n",
    "        data.loc[data[col].isnull(), col] = y_pre\n",
    "    except ValueError:\n",
    "        pass\n",
    "\n",
    "    PATH = \"../models/\" + str(col) + \"-\" + str(dt) + '.pk'\n",
    "    with open(PATH, 'wb') as f:\n",
    "        dump(dt, f)\n",
    "\n",
    "    if col == 'unknown10':\n",
    "        label = LabelEncoder()\n",
    "        data['unknown10'] = label.fit_transform(data['unknown10'])\n",
    "        with open('../models/label.pk', 'wb') as f:\n",
    "            dump(label, f)\n",
    "\n",
    "with open('./dict.pk', 'wb') as f:\n",
    "    dump(cols, f)\n",
    "    "
   ],
   "metadata": {
    "collapsed": false,
    "pycharm": {
     "name": "#%%\n",
     "is_executing": true
    }
   }
  },
  {
   "cell_type": "code",
   "execution_count": null,
   "outputs": [],
   "source": [
    "# from pandas_profiling import ProfileReport\n",
    "#\n",
    "# pr = ProfileReport(data)\n",
    "# pr.to_file('./solve1/report.html')"
   ],
   "metadata": {
    "collapsed": false,
    "pycharm": {
     "name": "#%%\n",
     "is_executing": true
    }
   }
  },
  {
   "cell_type": "code",
   "execution_count": null,
   "outputs": [],
   "source": [
    "data"
   ],
   "metadata": {
    "collapsed": false,
    "pycharm": {
     "name": "#%%\n",
     "is_executing": true
    }
   }
  },
  {
   "cell_type": "code",
   "execution_count": null,
   "outputs": [],
   "source": [
    "data['country'].unique()"
   ],
   "metadata": {
    "collapsed": false,
    "pycharm": {
     "name": "#%%\n",
     "is_executing": true
    }
   }
  },
  {
   "cell_type": "code",
   "execution_count": null,
   "outputs": [],
   "source": [
    "sns.countplot(data['country'])"
   ],
   "metadata": {
    "collapsed": false,
    "pycharm": {
     "name": "#%%\n",
     "is_executing": true
    }
   }
  },
  {
   "cell_type": "code",
   "execution_count": null,
   "outputs": [],
   "source": [
    "data[data['country'] == 0][['brand', 'serial']].value_counts()"
   ],
   "metadata": {
    "collapsed": false,
    "pycharm": {
     "name": "#%%\n",
     "is_executing": true
    }
   }
  },
  {
   "cell_type": "code",
   "execution_count": null,
   "outputs": [],
   "source": [
    "data[data['brand']==68][['country', 'serial']].value_counts()"
   ],
   "metadata": {
    "collapsed": false,
    "pycharm": {
     "name": "#%%\n",
     "is_executing": true
    }
   }
  },
  {
   "cell_type": "code",
   "execution_count": null,
   "outputs": [],
   "source": [
    "data[data['brand']==72][['country', 'serial']].value_counts()"
   ],
   "metadata": {
    "collapsed": false,
    "pycharm": {
     "name": "#%%\n",
     "is_executing": true
    }
   }
  },
  {
   "cell_type": "code",
   "execution_count": null,
   "outputs": [],
   "source": [
    "data['country'].replace(0, 779413, inplace=True)"
   ],
   "metadata": {
    "collapsed": false,
    "pycharm": {
     "name": "#%%\n",
     "is_executing": true
    }
   }
  },
  {
   "cell_type": "code",
   "execution_count": null,
   "outputs": [],
   "source": [
    "think = data[data['price'] > data['newPrice']][['price', 'newPrice']]\n",
    "think['point'] = think['newPrice'] - think['price']\n",
    "_ = think[(think['point'] / think['newPrice']).abs() > .3]\n",
    "_"
   ],
   "metadata": {
    "collapsed": false,
    "pycharm": {
     "name": "#%%\n",
     "is_executing": true
    }
   }
  },
  {
   "cell_type": "code",
   "execution_count": null,
   "outputs": [],
   "source": [
    "data.drop(index=_.index, axis=0, inplace=True)\n",
    "data"
   ],
   "metadata": {
    "collapsed": false,
    "pycharm": {
     "name": "#%%\n",
     "is_executing": true
    }
   }
  },
  {
   "cell_type": "code",
   "execution_count": null,
   "outputs": [],
   "source": [
    "sns.distplot(data['price'])"
   ],
   "metadata": {
    "collapsed": false,
    "pycharm": {
     "name": "#%%\n",
     "is_executing": true
    }
   }
  },
  {
   "cell_type": "code",
   "execution_count": null,
   "outputs": [],
   "source": [
    "from sklearn.preprocessing import StandardScaler\n",
    "\n",
    "ss = StandardScaler()\n",
    "\n",
    "level = pd.cut(data['price'], bins=30, labels=[i for i in range(1, 31)])\n",
    "\n",
    "data['level'] = level\n",
    "\n",
    "X = data[[i for i in data.columns if i not in ['price', 'level']]]\n",
    "y = data[['price', 'level']]\n",
    "\n",
    "X_train, X_test, y_train, y_test = train_test_split(X, y, test_size=.3, random_state=42)"
   ],
   "metadata": {
    "collapsed": false,
    "pycharm": {
     "name": "#%%\n",
     "is_executing": true
    }
   }
  },
  {
   "cell_type": "code",
   "execution_count": null,
   "outputs": [],
   "source": [
    "number = ['tradeTime', 'mileage', 'productionTime', 'newPrice', 'unknown12', 'unknown11_1',\n",
    "          'unknown11_2', 'unknown11_3', 'useTime']\n",
    "classif = [i for i in data.columns if i not in number and i not in y.columns]"
   ],
   "metadata": {
    "collapsed": false,
    "pycharm": {
     "name": "#%%\n",
     "is_executing": true
    }
   }
  },
  {
   "cell_type": "code",
   "execution_count": null,
   "outputs": [],
   "source": [
    "X_train_classif = X_train[classif]\n",
    "X_train_number = X_train[number]"
   ],
   "metadata": {
    "collapsed": false,
    "pycharm": {
     "name": "#%%\n",
     "is_executing": true
    }
   }
  },
  {
   "cell_type": "code",
   "execution_count": null,
   "outputs": [],
   "source": [
    "def ape(model, train, target):\n",
    "    predict = model.predict(train)\n",
    "    loss = np.abs(target - predict)\n",
    "    print('ape: ', str(loss / target))\n",
    "    return loss / target\n",
    "\n",
    "def mape(model, train, target):\n",
    "    ap = ape(model, train, target)\n",
    "    shape = ap.shape[0]\n",
    "    print('mape: ', str(np.sum(ap) / shape))\n",
    "    return np.sum(ap) / shape\n",
    "\n",
    "def accuracy5(model, train, target):\n",
    "    a = ape(model, train, target)\n",
    "    total = a.shape[0]\n",
    "    ape5 = a[a<=.05].shape[0]\n",
    "    print('acc5: ', str(ape5 / total))\n",
    "    return ape5 / total\n",
    "\n",
    "def metrics(model, train, target):\n",
    "    m = mape(model, train, target)\n",
    "    accuracy = accuracy5(model, train, target)\n",
    "    return 0.2*(1-m) + 0.8*accuracy"
   ],
   "metadata": {
    "collapsed": false,
    "pycharm": {
     "name": "#%%\n",
     "is_executing": true
    }
   }
  },
  {
   "cell_type": "code",
   "execution_count": null,
   "outputs": [],
   "source": [
    "from keras.layers import Dense, Dropout, concatenate\n",
    "from keras.models import Model, Input\n",
    "\n",
    "X_train_number = ss.fit_transform(X_train_number)\n",
    "X_test_number = ss.fit_transform(X_test[number])\n",
    "X_test_classif = X_test[classif]"
   ],
   "metadata": {
    "collapsed": false,
    "pycharm": {
     "name": "#%%\n",
     "is_executing": true
    }
   }
  },
  {
   "cell_type": "code",
   "execution_count": null,
   "outputs": [],
   "source": [
    "# input_num = Input(shape=(9,), name='num_input1')\n",
    "# input_class = Input(shape=(31,), name='class_input1')\n",
    "# input_num_ = Input(shape=(9,), name='num_input2')\n",
    "# input_class_ = Input(shape=(31,), name='class_input2')\n",
    "#\n",
    "# x1 = Dense(128, activation='relu', name='level_1')(input_num)\n",
    "# x11 = Dropout(0.8)(x1)\n",
    "# x2 = Dense(128, activation='sigmoid', name='level_2')(input_class_)\n",
    "# x21 = Dropout(0.8)(x2)\n",
    "# x3 = Dense(128, activation='relu', name='regression_1')(input_num_)\n",
    "# x31 = Dropout(0.8)(x3)\n",
    "# x4 = Dense(128, activation='sigmoid', name='regression_2')(input_class)\n",
    "# x41 = Dropout(0.8)(x4)\n",
    "#\n",
    "# x12 = Dense(32, activation='relu', name='level_11')(x11)\n",
    "# x13 = Dropout(0.75)(x12)\n",
    "# x22 = Dense(32, activation='sigmoid', name='level_21')(x21)\n",
    "# x23 = Dropout(.75)(x22)\n",
    "# x32 = Dense(32, activation='relu', name='regression_11')(x31)\n",
    "# x33 = Dropout(.75)(x32)\n",
    "# x42 = Dense(32, activation='sigmoid', name='regression_21')(x41)\n",
    "# x43 = Dropout(.75)(x42)\n",
    "#\n",
    "# X1 = concatenate([x13, x23])\n",
    "# X2 = concatenate([x33, x43])\n",
    "#\n",
    "# X11 = Dense(128, activation='relu', name='level_concat')(X1)\n",
    "# X11 = Dropout(.8)(X11)\n",
    "# y1 = Dense(100, activation='softmax', name='level')(X11)\n",
    "# X21 = Dense(64, activation='relu', name='regression_concat')(X2)\n",
    "#\n",
    "# X3 = concatenate([x21, y1])\n",
    "# X31 = Dense(64, activation='relu', name='concat')(X3)\n",
    "# X32 = Dropout(.9)(X31)\n",
    "# y2 = Dense(1, name='target')(X32)"
   ],
   "metadata": {
    "collapsed": false,
    "pycharm": {
     "name": "#%%\n",
     "is_executing": true
    }
   }
  },
  {
   "cell_type": "code",
   "execution_count": null,
   "outputs": [],
   "source": [
    "# model = Model([input_num, input_class, input_num_, input_class_], [y1, y2])"
   ],
   "metadata": {
    "collapsed": false,
    "pycharm": {
     "name": "#%%\n",
     "is_executing": true
    }
   }
  },
  {
   "cell_type": "code",
   "source": [
    "# model.summary()"
   ],
   "metadata": {
    "collapsed": false,
    "pycharm": {
     "name": "#%%\n",
     "is_executing": true
    }
   },
   "execution_count": null,
   "outputs": []
  },
  {
   "cell_type": "code",
   "execution_count": null,
   "outputs": [],
   "source": [
    "# model.compile(optimizer='adam', loss='mse', metrics='mape')\n",
    "# history = model.fit(x={\n",
    "#     'num_input1': X_train_number,\n",
    "#     'class_input1': X_train_classif,\n",
    "#     'num_input2': X_train_number,\n",
    "#     'class_input2': X_train_classif,\n",
    "# }, y={\n",
    "#     'target': y['price'],\n",
    "#     'level': y['level']\n",
    "# },\n",
    "# epochs=64,\n",
    "# validation_split=.3,\n",
    "# batch_size=2048)"
   ],
   "metadata": {
    "collapsed": false,
    "pycharm": {
     "name": "#%%\n",
     "is_executing": true
    }
   }
  },
  {
   "cell_type": "code",
   "execution_count": null,
   "outputs": [],
   "source": [
    "# plt.plot(history.history['target_loss'])"
   ],
   "metadata": {
    "collapsed": false,
    "pycharm": {
     "name": "#%%\n",
     "is_executing": true
    }
   }
  },
  {
   "cell_type": "code",
   "execution_count": null,
   "outputs": [],
   "source": [
    "# from sklearn.metrics import r2_score\n",
    "#\n",
    "# r2_score(y_test['price'], model.predict([X_test_number, X_test_classif, X_test_number, X_test_classif])[1])"
   ],
   "metadata": {
    "collapsed": false,
    "pycharm": {
     "name": "#%%\n",
     "is_executing": true
    }
   }
  },
  {
   "cell_type": "code",
   "execution_count": null,
   "outputs": [],
   "source": [
    "# pre = model.predict([X_test_number, X_test_classif, X_test_number, X_test_classif])\n",
    "# pre[1]"
   ],
   "metadata": {
    "collapsed": false,
    "pycharm": {
     "name": "#%%\n",
     "is_executing": true
    }
   }
  },
  {
   "cell_type": "code",
   "execution_count": null,
   "outputs": [],
   "source": [
    "# plt.plot(range(len(pre[1])), pre[1], 'r')\n",
    "# plt.plot(range(len(pre[1])), y_test['price'], 'b')"
   ],
   "metadata": {
    "collapsed": false,
    "pycharm": {
     "name": "#%%\n",
     "is_executing": true
    }
   }
  },
  {
   "cell_type": "code",
   "execution_count": null,
   "outputs": [],
   "source": [
    "from xgboost import XGBRegressor\n",
    "\n",
    "xgb = XGBRegressor()\n",
    "xgb.fit(X_train, y_train['price'])\n",
    "xgb.score(X_test, y_test['price'])"
   ],
   "metadata": {
    "collapsed": false,
    "pycharm": {
     "name": "#%%\n",
     "is_executing": true
    }
   }
  },
  {
   "cell_type": "code",
   "execution_count": null,
   "outputs": [],
   "source": [
    "metrics(xgb, X_test, y_test['price'])"
   ],
   "metadata": {
    "collapsed": false,
    "pycharm": {
     "name": "#%%\n",
     "is_executing": true
    }
   }
  },
  {
   "cell_type": "code",
   "execution_count": null,
   "outputs": [],
   "source": [
    "sns.countplot(data['level'])"
   ],
   "metadata": {
    "collapsed": false,
    "pycharm": {
     "name": "#%%\n",
     "is_executing": true
    }
   }
  },
  {
   "cell_type": "code",
   "execution_count": null,
   "outputs": [],
   "source": [
    "from sklearn.tree import DecisionTreeClassifier\n",
    "\n",
    "level = data['level'].astype(int)\n",
    "level[level!=1] = -1\n",
    "sns.countplot(level)"
   ],
   "metadata": {
    "collapsed": false,
    "pycharm": {
     "name": "#%%\n",
     "is_executing": true
    }
   }
  },
  {
   "cell_type": "code",
   "execution_count": null,
   "outputs": [],
   "source": [
    "from imblearn.over_sampling import SMOTE\n",
    "\n",
    "smote = SMOTE(random_state=42)\n",
    "X, y = smote.fit_resample(X, level)\n",
    "sns.countplot(y)"
   ],
   "metadata": {
    "collapsed": false,
    "pycharm": {
     "name": "#%%\n",
     "is_executing": true
    }
   }
  },
  {
   "cell_type": "code",
   "execution_count": null,
   "outputs": [],
   "source": [
    "X_train, X_test, y_train, y_test = train_test_split(X, y, random_state=42)\n",
    "\n",
    "dt = DecisionTreeClassifier()\n",
    "dt.fit(X_train,y_train)\n",
    "dt.score(X_test, y_test)"
   ],
   "metadata": {
    "collapsed": false,
    "pycharm": {
     "name": "#%%\n",
     "is_executing": true
    }
   }
  },
  {
   "cell_type": "code",
   "execution_count": null,
   "outputs": [],
   "source": [
    "dt.score(data[[i for i in data.columns if i not in ['price', 'level']]], level)"
   ],
   "metadata": {
    "collapsed": false,
    "pycharm": {
     "name": "#%%\n",
     "is_executing": true
    }
   }
  },
  {
   "cell_type": "code",
   "execution_count": null,
   "outputs": [],
   "source": [
    "f1_score(level, dt.predict(data[[i for i in data.columns if i not in ['price', 'level']]]))"
   ],
   "metadata": {
    "collapsed": false,
    "pycharm": {
     "name": "#%%\n",
     "is_executing": true
    }
   }
  },
  {
   "cell_type": "code",
   "execution_count": null,
   "outputs": [],
   "source": [
    "from sklearn.model_selection import cross_val_score\n",
    "from sklearn.metrics import f1_score, make_scorer\n",
    "\n",
    "X = data[[i for i in data.columns if i not in ['price', 'level']]]\n",
    "y = data['level']"
   ],
   "metadata": {
    "collapsed": false,
    "pycharm": {
     "name": "#%%\n",
     "is_executing": true
    }
   }
  },
  {
   "cell_type": "code",
   "execution_count": null,
   "outputs": [],
   "source": [
    "def predict(model, train):\n",
    "    _ = model.predict(train)\n"
   ],
   "metadata": {
    "collapsed": false,
    "pycharm": {
     "name": "#%%\n",
     "is_executing": true
    }
   }
  },
  {
   "cell_type": "code",
   "execution_count": null,
   "outputs": [],
   "source": [
    "_ = data[data['level'] == 1]\n",
    "X = _[[i for i in data.columns if i not in['price', 'level']]]\n",
    "y = _['price']\n",
    "X_train, X_test, y_train, y_test= train_test_split(X, y, test_size=.3, random_state=42)"
   ],
   "metadata": {
    "collapsed": false,
    "pycharm": {
     "name": "#%%\n",
     "is_executing": true
    }
   }
  },
  {
   "cell_type": "code",
   "execution_count": null,
   "outputs": [],
   "source": [
    "xgr = XGBRegressor(n_estimators=120, max_depth=7, eta=.1, random_state=42)\n",
    "xgr.fit(X_train, y_train)\n",
    "xgr.score(X_test, y_test)"
   ],
   "metadata": {
    "collapsed": false,
    "pycharm": {
     "name": "#%%\n",
     "is_executing": true
    }
   }
  },
  {
   "cell_type": "code",
   "execution_count": null,
   "outputs": [],
   "source": [
    "cross_val_score(xgr, X_train, y_train, scoring=metrics, cv=5, n_jobs=-1)"
   ],
   "metadata": {
    "collapsed": false,
    "pycharm": {
     "name": "#%%\n",
     "is_executing": true
    }
   }
  },
  {
   "cell_type": "code",
   "execution_count": null,
   "outputs": [],
   "source": [
    "plt.plot(xgr.predict(X_test))"
   ],
   "metadata": {
    "collapsed": false,
    "pycharm": {
     "name": "#%%\n",
     "is_executing": true
    }
   }
  },
  {
   "cell_type": "code",
   "execution_count": null,
   "outputs": [],
   "source": [
    "corr = data[number].corr()\n",
    "sns.heatmap(corr, annot=True, linewidths=.1)"
   ],
   "metadata": {
    "collapsed": false,
    "pycharm": {
     "name": "#%%\n",
     "is_executing": true
    }
   }
  },
  {
   "cell_type": "code",
   "execution_count": null,
   "outputs": [],
   "source": [
    "from sklearn.linear_model import LinearRegression\n",
    "\n",
    "lr = LinearRegression(normalize=True)\n",
    "lr.fit(X_train, y_train)\n",
    "lr.score(X_test, y_test)"
   ],
   "metadata": {
    "collapsed": false,
    "pycharm": {
     "name": "#%%\n",
     "is_executing": true
    }
   }
  },
  {
   "cell_type": "code",
   "execution_count": null,
   "outputs": [],
   "source": [
    "data['price'].plot()"
   ],
   "metadata": {
    "collapsed": false,
    "pycharm": {
     "name": "#%%\n",
     "is_executing": true
    }
   }
  },
  {
   "cell_type": "code",
   "execution_count": null,
   "outputs": [],
   "source": [
    "sns.distplot(data['price'])\n",
    "print(data['price'].skew(), data['price'].kurt())\n",
    "plt.savefig('./solve1/true.png', dpi=800)"
   ],
   "metadata": {
    "collapsed": false,
    "pycharm": {
     "name": "#%%\n",
     "is_executing": true
    }
   }
  },
  {
   "cell_type": "code",
   "execution_count": null,
   "outputs": [],
   "source": [
    "price = np.log1p(data['price'])\n",
    "sns.distplot(price)\n",
    "print(price.skew(), price.kurt())\n",
    "plt.savefig('./solve1/log(1+n).png', dpi=800)"
   ],
   "metadata": {
    "collapsed": false,
    "pycharm": {
     "name": "#%%\n",
     "is_executing": true
    }
   }
  },
  {
   "cell_type": "code",
   "execution_count": null,
   "outputs": [],
   "source": [
    "X = data[[i for i in data.columns if i not in ['price', 'level']]]\n",
    "X_train, X_test, y_train, y_test = train_test_split(X, price, test_size=.3, random_state=42)\n",
    "\n",
    "lr.fit(X_train, y_train)\n",
    "lr.score(X_test, y_test)"
   ],
   "metadata": {
    "collapsed": false,
    "pycharm": {
     "name": "#%%\n",
     "is_executing": true
    }
   }
  },
  {
   "cell_type": "code",
   "execution_count": null,
   "outputs": [],
   "source": [
    "xgr = XGBRegressor()\n",
    "xgr.fit(X_train, y_train)\n",
    "xgr.score(X_test, y_test)"
   ],
   "metadata": {
    "collapsed": false,
    "pycharm": {
     "name": "#%%\n",
     "is_executing": true
    }
   }
  },
  {
   "cell_type": "code",
   "execution_count": null,
   "outputs": [],
   "source": [
    "cross_val_score(xgr, X_train, y_train, scoring=metrics, cv=5, n_jobs=-1)"
   ],
   "metadata": {
    "collapsed": false,
    "pycharm": {
     "name": "#%%\n",
     "is_executing": true
    }
   }
  },
  {
   "cell_type": "code",
   "execution_count": null,
   "outputs": [],
   "source": [
    "X.shape"
   ],
   "metadata": {
    "collapsed": false,
    "pycharm": {
     "name": "#%%\n",
     "is_executing": true
    }
   }
  },
  {
   "cell_type": "code",
   "execution_count": null,
   "outputs": [],
   "source": [
    "# from keras.layers import Dense\n",
    "# from keras.models import Sequential\n",
    "#\n",
    "# model = Sequential()\n",
    "# model.add(Dense(32, input_dim=40, activation='relu'))\n",
    "# model.add(Dense(8, activation='relu'))\n",
    "# model.add(Dense(1))\n",
    "#\n",
    "# model.compile(optimizer='Adam', loss='mse')\n",
    "# his = model.fit(X_train, y_train, epochs=16,  validation_split=.3)"
   ],
   "metadata": {
    "collapsed": false,
    "pycharm": {
     "name": "#%%\n",
     "is_executing": true
    }
   }
  },
  {
   "cell_type": "code",
   "execution_count": null,
   "outputs": [],
   "source": [],
   "metadata": {
    "collapsed": false,
    "pycharm": {
     "name": "#%%\n",
     "is_executing": true
    }
   }
  },
  {
   "cell_type": "code",
   "execution_count": null,
   "outputs": [],
   "source": [
    "# plt.plot(his.history['loss'], 'r', label='loss')\n",
    "# plt.plot(his.history['val_loss'], 'b', label='val_loss')\n",
    "# plt.legend()"
   ],
   "metadata": {
    "collapsed": false,
    "pycharm": {
     "name": "#%%\n",
     "is_executing": true
    }
   }
  },
  {
   "cell_type": "code",
   "execution_count": null,
   "outputs": [],
   "source": [
    "# model.predict(X)"
   ],
   "metadata": {
    "collapsed": false,
    "pycharm": {
     "name": "#%%\n",
     "is_executing": true
    }
   }
  },
  {
   "cell_type": "code",
   "execution_count": null,
   "outputs": [],
   "source": [
    "from lightgbm.sklearn import LGBMRegressor\n",
    "\n",
    "gbm = LGBMRegressor()\n",
    "gbm.fit(X_train.values, y_train)\n",
    "gbm.score(X_test.values, y_test)"
   ],
   "metadata": {
    "collapsed": false,
    "pycharm": {
     "name": "#%%\n",
     "is_executing": true
    }
   }
  },
  {
   "cell_type": "code",
   "execution_count": null,
   "outputs": [],
   "source": [
    "X_train"
   ],
   "metadata": {
    "collapsed": false,
    "pycharm": {
     "name": "#%%\n",
     "is_executing": true
    }
   }
  },
  {
   "cell_type": "code",
   "execution_count": null,
   "outputs": [],
   "source": [
    "def Ape(y_predict, y):\n",
    "    return np.abs(y_predict - y) / y\n",
    "\n",
    "def Mape(y_predict, y):\n",
    "    return Ape(y_predict, y).mean()\n",
    "\n",
    "def Acc5(y_predict, y):\n",
    "    ape = Ape(y_predict, y)\n",
    "    ape = ape[ape < .05]\n",
    "    return ape.shape[0] / y.shape[0]\n",
    "\n",
    "def met(y_predict, y):\n",
    "    return .2 * (1 - Mape(y_predict, y)) + .8 * Acc5(y_predict, y)\n",
    "\n",
    "def true(price_ln):\n",
    "    return np.e ** price_ln - 1"
   ],
   "metadata": {
    "collapsed": false,
    "pycharm": {
     "name": "#%%\n",
     "is_executing": true
    }
   }
  },
  {
   "cell_type": "code",
   "execution_count": null,
   "outputs": [],
   "source": [
    "pre = xgr.predict(X_test)\n",
    "pre = true(pre)\n",
    "y_true= true(y_test)\n",
    "met(pre, y_true)"
   ],
   "metadata": {
    "collapsed": false,
    "pycharm": {
     "name": "#%%\n",
     "is_executing": true
    }
   }
  },
  {
   "cell_type": "code",
   "execution_count": null,
   "outputs": [],
   "source": [
    "cross_val_score(xgr, X, price, cv=5, scoring=make_scorer(met))"
   ],
   "metadata": {
    "collapsed": false,
    "pycharm": {
     "name": "#%%\n",
     "is_executing": true
    }
   }
  },
  {
   "cell_type": "code",
   "execution_count": null,
   "outputs": [],
   "source": [
    "Acc5(pre, y_true)"
   ],
   "metadata": {
    "collapsed": false,
    "pycharm": {
     "name": "#%%\n",
     "is_executing": true
    }
   }
  },
  {
   "cell_type": "code",
   "execution_count": null,
   "outputs": [],
   "source": [
    "from sklearn.linear_model import Lasso, Ridge, LinearRegression\n",
    "from sklearn.tree import DecisionTreeRegressor\n",
    "from sklearn.ensemble import GradientBoostingRegressor, RandomForestRegressor\n",
    "from xgboost.sklearn import XGBRegressor\n",
    "from lightgbm.sklearn import LGBMRegressor\n",
    "from catboost import CatBoostRegressor\n",
    "\n",
    "models = [\n",
    "    LinearRegression(),\n",
    "    Lasso(),\n",
    "    Ridge(),\n",
    "    DecisionTreeRegressor(),\n",
    "    GradientBoostingRegressor(),\n",
    "    RandomForestRegressor(),\n",
    "    XGBRegressor(),\n",
    "    LGBMRegressor(),\n",
    "    CatBoostRegressor()\n",
    "]"
   ],
   "metadata": {
    "collapsed": false,
    "pycharm": {
     "name": "#%%\n",
     "is_executing": true
    }
   }
  },
  {
   "cell_type": "code",
   "execution_count": null,
   "outputs": [],
   "source": [
    "result = dict()\n",
    "\n",
    "for model in models:\n",
    "    model_name = str(model).split('(')[0]\n",
    "    scores = cross_val_score(model, X_train, y_train, cv=5, scoring=make_scorer(met))\n",
    "    result[model_name] = scores\n",
    "\n",
    "result = pd.DataFrame(result)"
   ],
   "metadata": {
    "collapsed": false,
    "pycharm": {
     "name": "#%%\n",
     "is_executing": true
    }
   }
  },
  {
   "cell_type": "code",
   "execution_count": null,
   "outputs": [],
   "source": [
    "result"
   ],
   "metadata": {
    "collapsed": false,
    "pycharm": {
     "name": "#%%\n",
     "is_executing": true
    }
   }
  },
  {
   "cell_type": "code",
   "execution_count": null,
   "outputs": [],
   "source": [
    "best_model = CatBoostRegressor()\n",
    "best_model.fit(X_train, y_train)\n",
    "best_model.score(X_test, y_test)"
   ],
   "metadata": {
    "collapsed": false,
    "pycharm": {
     "name": "#%%\n",
     "is_executing": true
    }
   }
  },
  {
   "cell_type": "code",
   "execution_count": null,
   "outputs": [],
   "source": [
    "# from sklearn.model_selection import GridSearchCV\n",
    "#\n",
    "# params = {\n",
    "# 'iterations': [500, 1000],\n",
    "# 'learning_rate':  [0.01, 0.05, 0.1],\n",
    "# 'max_depth': [5, 10],\n",
    "# 'l2_leaf_reg': [1, 3],\n",
    "# 'task_type': ['GPU']\n",
    "# }\n",
    "#\n",
    "# clf = GridSearchCV(CatBoostRegressor(), param_grid=params, cv=3, scoring=make_scorer(met))\n",
    "# clf.fit(X_train, y_train)"
   ],
   "metadata": {
    "collapsed": false,
    "pycharm": {
     "name": "#%%\n",
     "is_executing": true
    }
   }
  },
  {
   "cell_type": "code",
   "execution_count": null,
   "outputs": [],
   "source": [
    "# print(clf.best_score_, clf.best_params_)"
   ],
   "metadata": {
    "collapsed": false,
    "pycharm": {
     "name": "#%%\n",
     "is_executing": true
    }
   }
  },
  {
   "cell_type": "code",
   "execution_count": null,
   "outputs": [],
   "source": [
    "cross_val_score(CatBoostRegressor(iterations=1000, l2_leaf_reg=3, learning_rate=.1, max_depth=10,\n",
    "                                  task_type='GPU'), X_train, y_train, cv=5, scoring=make_scorer(met))"
   ],
   "metadata": {
    "collapsed": false,
    "pycharm": {
     "name": "#%%\n",
     "is_executing": true
    }
   }
  },
  {
   "cell_type": "code",
   "execution_count": null,
   "outputs": [],
   "source": [
    "model = CatBoostRegressor()\n",
    "model.fit(X_train, y_train,eval_set=(X_test, y_test), plot=True)\n",
    "plt.savefig('./solve1/fit.png', dpi=800)"
   ],
   "metadata": {
    "collapsed": false,
    "pycharm": {
     "name": "#%%\n",
     "is_executing": true
    }
   }
  },
  {
   "cell_type": "code",
   "execution_count": null,
   "outputs": [],
   "source": [
    "fea = model.feature_importances_\n",
    "fea_name = model.feature_names_\n",
    "plt.barh(fea_name, fea, height=.5)\n",
    "plt.savefig('./solve1/importance_.png', dpi=800)"
   ],
   "metadata": {
    "collapsed": false,
    "pycharm": {
     "name": "#%%\n",
     "is_executing": true
    }
   }
  },
  {
   "cell_type": "code",
   "execution_count": null,
   "outputs": [],
   "source": [
    "for name, value in zip(fea_name, fea):\n",
    "    print(name, value)"
   ],
   "metadata": {
    "collapsed": false,
    "pycharm": {
     "name": "#%%\n",
     "is_executing": true
    }
   }
  },
  {
   "cell_type": "code",
   "execution_count": null,
   "outputs": [],
   "source": [
    "model.score(X_test, y_test)"
   ],
   "metadata": {
    "collapsed": false,
    "pycharm": {
     "name": "#%%\n",
     "is_executing": true
    }
   }
  },
  {
   "cell_type": "code",
   "execution_count": null,
   "outputs": [],
   "source": [
    "y_pre = true(model.predict(X))\n",
    "met(y_pre, data['price'])"
   ],
   "metadata": {
    "collapsed": false,
    "pycharm": {
     "name": "#%%\n",
     "is_executing": true
    }
   }
  },
  {
   "cell_type": "code",
   "execution_count": null,
   "outputs": [],
   "source": [
    "met(model.predict(X), price)"
   ],
   "metadata": {
    "collapsed": false,
    "pycharm": {
     "name": "#%%\n",
     "is_executing": true
    }
   }
  },
  {
   "cell_type": "code",
   "execution_count": null,
   "outputs": [],
   "source": [
    "Acc5(model.predict(X), price)"
   ],
   "metadata": {
    "collapsed": false,
    "pycharm": {
     "name": "#%%\n",
     "is_executing": true
    }
   }
  },
  {
   "cell_type": "code",
   "execution_count": null,
   "outputs": [],
   "source": [
    "Mape(model.predict(X), price)"
   ],
   "metadata": {
    "collapsed": false,
    "pycharm": {
     "name": "#%%\n",
     "is_executing": true
    }
   }
  },
  {
   "cell_type": "code",
   "execution_count": null,
   "outputs": [],
   "source": [
    "Acc5(y_pre, data['price'])"
   ],
   "metadata": {
    "collapsed": false,
    "pycharm": {
     "name": "#%%\n",
     "is_executing": true
    }
   }
  },
  {
   "cell_type": "code",
   "execution_count": null,
   "outputs": [],
   "source": [
    "Mape(y_pre, data['price'])"
   ],
   "metadata": {
    "collapsed": false,
    "pycharm": {
     "name": "#%%\n",
     "is_executing": true
    }
   }
  },
  {
   "cell_type": "code",
   "execution_count": null,
   "outputs": [],
   "source": [],
   "metadata": {
    "collapsed": false,
    "pycharm": {
     "name": "#%%\n",
     "is_executing": true
    }
   }
  }
 ],
 "metadata": {
  "kernelspec": {
   "display_name": "Python 3",
   "language": "python",
   "name": "python3"
  },
  "language_info": {
   "codemirror_mode": {
    "name": "ipython",
    "version": 2
   },
   "file_extension": ".py",
   "mimetype": "text/x-python",
   "name": "python",
   "nbconvert_exporter": "python",
   "pygments_lexer": "ipython2",
   "version": "2.7.6"
  }
 },
 "nbformat": 4,
 "nbformat_minor": 0
}